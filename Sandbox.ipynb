{
 "cells": [
  {
   "cell_type": "code",
   "execution_count": 12,
   "metadata": {
    "pycharm": {
     "is_executing": false
    }
   },
   "outputs": [],
   "source": [
    "from __future__ import absolute_import\n",
    "from __future__ import print_function\n",
    "from __future__ import unicode_literals\n",
    "\n",
    "import pexpect\n",
    "import sys"
   ]
  },
  {
   "cell_type": "code",
   "execution_count": 11,
   "metadata": {},
   "outputs": [],
   "source": []
  },
  {
   "cell_type": "code",
   "execution_count": 98,
   "metadata": {},
   "outputs": [
    {
     "data": {
      "text/plain": [
       "0"
      ]
     },
     "execution_count": 98,
     "metadata": {},
     "output_type": "execute_result"
    }
   ],
   "source": [
    "child = pexpect.spawnu('jdb Test')\n",
    "child.sendline(\"stop in Test.main\")\n",
    "child.expect(\".*Deferring breakpoint.*\")\n",
    "child.sendline(\"run\")\n",
    "child.expect(\".*Breakpoint hit:\")"
   ]
  },
  {
   "cell_type": "code",
   "execution_count": 103,
   "metadata": {},
   "outputs": [
    {
     "data": {
      "text/plain": [
       "'\\r\\nx = 10\\r\\nmain[1] '"
      ]
     },
     "execution_count": 103,
     "metadata": {},
     "output_type": "execute_result"
    }
   ],
   "source": [
    "child.before + child.after"
   ]
  },
  {
   "cell_type": "code",
   "execution_count": 102,
   "metadata": {},
   "outputs": [
    {
     "data": {
      "text/plain": [
       "0"
      ]
     },
     "execution_count": 102,
     "metadata": {},
     "output_type": "execute_result"
    }
   ],
   "source": [
    "child.sendline(\"locals\")\n",
    "child.expect(\"Method arguments:\")\n",
    "child.expect(\"Local variables:\")\n",
    "child.expect(\".*\\[.*\\] \")"
   ]
  },
  {
   "cell_type": "code",
   "execution_count": 101,
   "metadata": {},
   "outputs": [
    {
     "data": {
      "text/plain": [
       "8"
      ]
     },
     "execution_count": 101,
     "metadata": {},
     "output_type": "execute_result"
    }
   ],
   "source": [
    "child.sendline(\"step in\")"
   ]
  },
  {
   "cell_type": "code",
   "execution_count": 66,
   "metadata": {},
   "outputs": [
    {
     "data": {
      "text/plain": [
       "0"
      ]
     },
     "execution_count": 66,
     "metadata": {},
     "output_type": "execute_result"
    }
   ],
   "source": [
    "child.expect(\"Local variables:\")"
   ]
  },
  {
   "cell_type": "code",
   "execution_count": 67,
   "metadata": {},
   "outputs": [
    {
     "data": {
      "text/plain": [
       "' \"thread=main\", Test.main(), line=4 bci=0\\r\\n4    \\tint x = 10;\\r\\n\\r\\nmain[1] locals\\r\\nMethod arguments:\\r\\nargs = instance of java.lang.String[0] (id=495)\\r\\n'"
      ]
     },
     "execution_count": 67,
     "metadata": {},
     "output_type": "execute_result"
    }
   ],
   "source": [
    "child.before"
   ]
  },
  {
   "cell_type": "code",
   "execution_count": 16,
   "metadata": {},
   "outputs": [
    {
     "data": {
      "text/plain": [
       "4"
      ]
     },
     "execution_count": 16,
     "metadata": {},
     "output_type": "execute_result"
    }
   ],
   "source": [
    "child.sendline(\"run\")"
   ]
  },
  {
   "cell_type": "code",
   "execution_count": 142,
   "metadata": {},
   "outputs": [],
   "source": [
    "child.close()"
   ]
  },
  {
   "cell_type": "code",
   "execution_count": 13,
   "metadata": {
    "pycharm": {
     "is_executing": false
    }
   },
   "outputs": [],
   "source": [
    "def parse_rawstr(rawstr):\n",
    "    # Remove /r\n",
    "    rawstr = rawstr.replace('\\r\\n', '\\n')\n",
    "    \n",
    "    # Strip trailing spaces\n",
    "    rawstr = rawstr.strip()\n",
    "    \n",
    "    # Split into lines\n",
    "    lines = rawstr.splitlines()\n",
    "    \n",
    "    # Parse each line\n",
    "    variables = []\n",
    "    for line in lines:\n",
    "        if '=' not in line:\n",
    "            continue\n",
    "        parts = line.split(sep='=', maxsplit=1)\n",
    "        name = parts[0].strip()\n",
    "        value = parts[1].strip()\n",
    "        variables.append((name, value))\n",
    "    \n",
    "    return variables"
   ]
  },
  {
   "cell_type": "code",
   "execution_count": 14,
   "metadata": {
    "pycharm": {
     "is_executing": false
    }
   },
   "outputs": [],
   "source": [
    "def step(child):\n",
    "    if child.closed or child.eof():\n",
    "        return None\n",
    "        \n",
    "    # Make a step\n",
    "    child.sendline(\"step in\")\n",
    "    \n",
    "    # Print out all local variables\n",
    "    child.sendline(\"locals\")\n",
    "    \n",
    "    # Expect the variables from method arguments\n",
    "    child.expect(\"Method arguments:\")\n",
    "    \n",
    "    # Expect the variables locally declared\n",
    "    child.expect(\"Local variables:\")\n",
    "    \n",
    "    rawstr_args = child.before\n",
    "    \n",
    "    # Seek forward to prompt\n",
    "    child.expect(\".*\\[.*\\] \")\n",
    "    \n",
    "    rawstr_locals = child.after\n",
    "    \n",
    "    # Parse the strings\n",
    "    args = parse_rawstr(rawstr_args)\n",
    "    local = parse_rawstr(rawstr_locals)\n",
    "    \n",
    "    return (args, local)"
   ]
  },
  {
   "cell_type": "code",
   "execution_count": 16,
   "metadata": {
    "pycharm": {
     "is_executing": false
    }
   },
   "outputs": [
    {
     "data": {
      "text/plain": [
       "0"
      ]
     },
     "execution_count": 16,
     "metadata": {},
     "output_type": "execute_result"
    }
   ],
   "source": [
    "try:\n",
    "    child.close()\n",
    "except:\n",
    "    pass\n",
    "\n",
    "child = pexpect.spawnu('jdb IterPower')\n",
    "child.sendline(\"stop in IterPower.main\")\n",
    "child.expect(\".*Deferring breakpoint.*\")\n",
    "child.sendline(\"run\")\n",
    "child.expect(\".*Breakpoint hit:\")"
   ]
  },
  {
   "cell_type": "code",
   "execution_count": 22,
   "metadata": {
    "pycharm": {
     "is_executing": false
    }
   },
   "outputs": [
    {
     "data": {
      "text/plain": [
       "([('base', '10'), ('exp', '3')], [('result', '10')])"
      ]
     },
     "execution_count": 22,
     "metadata": {},
     "output_type": "execute_result"
    }
   ],
   "source": [
    "step(child)"
   ]
  },
  {
   "cell_type": "code",
   "execution_count": 315,
   "metadata": {},
   "outputs": [
    {
     "data": {
      "text/plain": [
       "pexpect.exceptions.EOF"
      ]
     },
     "execution_count": 315,
     "metadata": {},
     "output_type": "execute_result"
    }
   ],
   "source": []
  },
  {
   "cell_type": "code",
   "execution_count": 9,
   "metadata": {
    "pycharm": {
     "is_executing": false
    }
   },
   "outputs": [
    {
     "data": {
      "text/plain": [
       "pexpect.exceptions.EOF"
      ]
     },
     "execution_count": 9,
     "metadata": {},
     "output_type": "execute_result"
    }
   ],
   "source": [
    "child.after"
   ]
  },
  {
   "cell_type": "code",
   "execution_count": 199,
   "metadata": {},
   "outputs": [
    {
     "data": {
      "text/plain": [
       "'4    \\tint x = 10;\\r\\n'"
      ]
     },
     "execution_count": 199,
     "metadata": {},
     "output_type": "execute_result"
    }
   ],
   "source": [
    "child.readline()"
   ]
  },
  {
   "cell_type": "code",
   "execution_count": 205,
   "metadata": {},
   "outputs": [
    {
     "data": {
      "text/plain": [
       "'\\r\\nmain[1] '"
      ]
     },
     "execution_count": 205,
     "metadata": {},
     "output_type": "execute_result"
    }
   ],
   "source": [
    "child.sendline(\"\")\n",
    "child.expect(\".*\\[.*\\] \")\n",
    "child.after"
   ]
  },
  {
   "cell_type": "code",
   "execution_count": 207,
   "metadata": {},
   "outputs": [
    {
     "data": {
      "text/plain": [
       "'main[1]'"
      ]
     },
     "execution_count": 207,
     "metadata": {},
     "output_type": "execute_result"
    }
   ],
   "source": [
    "child.after.strip()"
   ]
  },
  {
   "cell_type": "code",
   "execution_count": 230,
   "metadata": {},
   "outputs": [
    {
     "data": {
      "text/plain": [
       "'dump arg3\\r\\n arg3 = \"adding\"\\r\\nmain[1] '"
      ]
     },
     "execution_count": 230,
     "metadata": {},
     "output_type": "execute_result"
    }
   ],
   "source": [
    "child.buffer"
   ]
  },
  {
   "cell_type": "code",
   "execution_count": 291,
   "metadata": {},
   "outputs": [],
   "source": [
    "def dump(child, obj):\n",
    "    \n",
    "    # First get a prompt\n",
    "    child.sendline(\"\")\n",
    "    child.expect(\".*\\[.*\\] \")\n",
    "    rawstr_prompt =  child.after.strip()\n",
    "    \n",
    "    # Escape prompt\n",
    "    esc_prompt = rawstr_prompt\n",
    "    esc_prompt = esc_prompt.replace(\"[\", \"\\[\")\n",
    "    esc_prompt = esc_prompt.replace(\"]\", \"\\]\")\n",
    "    \n",
    "    # Send command\n",
    "    child.sendline(\"dump {}\".format(obj))\n",
    "    \n",
    "    # Expect output\n",
    "    pattern = \"{obj} = .*{prompt}\".format(\n",
    "        obj=obj,\n",
    "        prompt=esc_prompt)\n",
    "    child.expect(pattern)\n",
    "    \n",
    "    # Parse output\n",
    "    ret = child.after\n",
    "    \n",
    "    # - remove last line break and prompt that follows\n",
    "    last_line_break = ret.rfind(\"\\n\")\n",
    "    ret = ret[:last_line_break].strip()\n",
    "    \n",
    "    # - remove obj name and equal sign\n",
    "    ret = ret.replace(\"{} =\".format(obj), \"\").strip()\n",
    "    \n",
    "    if ret == \"null\":\n",
    "        ret = None\n",
    "    \n",
    "    return ret"
   ]
  },
  {
   "cell_type": "code",
   "execution_count": 293,
   "metadata": {},
   "outputs": [
    {
     "data": {
      "text/plain": [
       "'2'"
      ]
     },
     "execution_count": 293,
     "metadata": {},
     "output_type": "execute_result"
    }
   ],
   "source": [
    "dump(child, \"Test.glob\")"
   ]
  },
  {
   "cell_type": "code",
   "execution_count": 256,
   "metadata": {},
   "outputs": [
    {
     "data": {
      "text/plain": [
       "0"
      ]
     },
     "execution_count": 256,
     "metadata": {},
     "output_type": "execute_result"
    }
   ],
   "source": [
    "child.expect(\"arg3 = .*main\\[1\\]\")"
   ]
  },
  {
   "cell_type": "code",
   "execution_count": 259,
   "metadata": {},
   "outputs": [],
   "source": [
    "ret = child.after"
   ]
  },
  {
   "cell_type": "code",
   "execution_count": 262,
   "metadata": {},
   "outputs": [
    {
     "data": {
      "text/plain": [
       "'arg3 = \"adding\"'"
      ]
     },
     "execution_count": 262,
     "metadata": {},
     "output_type": "execute_result"
    }
   ],
   "source": [
    "ret.replace(\"\\r\\nmain[1]\", \"\").strip()"
   ]
  },
  {
   "cell_type": "code",
   "execution_count": 268,
   "metadata": {},
   "outputs": [
    {
     "data": {
      "text/plain": [
       "23"
      ]
     },
     "execution_count": 268,
     "metadata": {},
     "output_type": "execute_result"
    }
   ],
   "source": [
    "\"main[1]                main[1]\".rfind(\"main[1]\")"
   ]
  },
  {
   "cell_type": "code",
   "execution_count": 270,
   "metadata": {},
   "outputs": [],
   "source": [
    "ret = child.after\n",
    "last_line_break = ret.rfind(\"\\n\")\n",
    "ret = ret[:last_line_break].strip()"
   ]
  },
  {
   "cell_type": "code",
   "execution_count": 274,
   "metadata": {},
   "outputs": [
    {
     "data": {
      "text/plain": [
       "'\"adding\"'"
      ]
     },
     "execution_count": 274,
     "metadata": {},
     "output_type": "execute_result"
    }
   ],
   "source": [
    "ret.replace(\"{} =\".format(\"arg3\"), \"\").strip()"
   ]
  },
  {
   "cell_type": "code",
   "execution_count": 318,
   "metadata": {},
   "outputs": [
    {
     "data": {
      "text/plain": [
       "True"
      ]
     },
     "execution_count": 318,
     "metadata": {},
     "output_type": "execute_result"
    }
   ],
   "source": []
  },
  {
   "cell_type": "code",
   "execution_count": 339,
   "metadata": {},
   "outputs": [],
   "source": [
    "import os"
   ]
  },
  {
   "cell_type": "code",
   "execution_count": 340,
   "metadata": {},
   "outputs": [
    {
     "data": {
      "text/plain": [
       "'/private/tmp'"
      ]
     },
     "execution_count": 340,
     "metadata": {},
     "output_type": "execute_result"
    }
   ],
   "source": [
    "os.getcwd()"
   ]
  },
  {
   "cell_type": "code",
   "execution_count": null,
   "metadata": {},
   "outputs": [],
   "source": []
  }
 ],
 "metadata": {
  "kernelspec": {
   "display_name": "Python 3",
   "language": "python",
   "name": "python3"
  },
  "language_info": {
   "codemirror_mode": {
    "name": "ipython",
    "version": 3
   },
   "file_extension": ".py",
   "mimetype": "text/x-python",
   "name": "python",
   "nbconvert_exporter": "python",
   "pygments_lexer": "ipython3",
   "version": "3.7.0"
  }
 },
 "nbformat": 4,
 "nbformat_minor": 2
}
