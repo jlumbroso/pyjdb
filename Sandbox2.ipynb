{
 "cells": [
  {
   "cell_type": "code",
   "execution_count": 1,
   "metadata": {},
   "outputs": [],
   "source": [
    "import pexpect\n",
    "import itertools"
   ]
  },
  {
   "cell_type": "code",
   "execution_count": 2,
   "metadata": {},
   "outputs": [],
   "source": [
    "def spawn_jdb(classname, child=None):\n",
    "    try:\n",
    "        child.close()\n",
    "    except:\n",
    "        pass\n",
    "\n",
    "    child = pexpect.spawnu('jdb {classname}'.format(\n",
    "        classname=classname))\n",
    "    child.sendline(\"stop in {classname}.main\".format(\n",
    "        classname=classname))\n",
    "    child.expect(\".*Deferring breakpoint.*\")\n",
    "    child.sendline(\"run\")\n",
    "    child.expect(\".*Breakpoint hit:\")\n",
    "    \n",
    "    return child"
   ]
  },
  {
   "cell_type": "code",
   "execution_count": 3,
   "metadata": {},
   "outputs": [],
   "source": [
    "def parse_rawstr(rawstr):\n",
    "    # Remove /r\n",
    "    rawstr = rawstr.replace('\\r\\n', '\\n')\n",
    "    \n",
    "    # Strip trailing spaces\n",
    "    rawstr = rawstr.strip()\n",
    "    \n",
    "    # Split into lines\n",
    "    lines = rawstr.splitlines()\n",
    "    \n",
    "    # Parse each line\n",
    "    variables = []\n",
    "    for line in lines:\n",
    "        if '=' not in line:\n",
    "            continue\n",
    "        parts = line.split(sep='=', maxsplit=1)\n",
    "        name = parts[0].strip()\n",
    "        value = parts[1].strip()\n",
    "        variables.append((name, value))\n",
    "    \n",
    "    return variables"
   ]
  },
  {
   "cell_type": "code",
   "execution_count": 4,
   "metadata": {},
   "outputs": [],
   "source": [
    "def step(child):\n",
    "    if child.closed or child.eof():\n",
    "        return None\n",
    "        \n",
    "    # Make a step\n",
    "    child.sendline(\"step in\")\n",
    "    \n",
    "    # Print out all local variables\n",
    "    child.sendline(\"locals\")\n",
    "    \n",
    "    # Expect the variables from method arguments\n",
    "    child.expect(\"Method arguments:\")\n",
    "    \n",
    "    # Expect the variables locally declared\n",
    "    child.expect(\"Local variables:\")\n",
    "    \n",
    "    rawstr_args = child.before\n",
    "    \n",
    "    # Seek forward to prompt\n",
    "    child.expect(\".*\\[.*\\] \")\n",
    "    \n",
    "    rawstr_locals = child.after\n",
    "    \n",
    "    # Parse the strings\n",
    "    args = parse_rawstr(rawstr_args)\n",
    "    local = parse_rawstr(rawstr_locals)\n",
    "    \n",
    "    return (args, local)"
   ]
  },
  {
   "cell_type": "code",
   "execution_count": 5,
   "metadata": {},
   "outputs": [],
   "source": [
    "def dump(child, obj):\n",
    "    \n",
    "    # First get a prompt\n",
    "    child.sendline(\"\")\n",
    "    child.expect(\".*\\[.*\\] \")\n",
    "    rawstr_prompt =  child.after.strip()\n",
    "    \n",
    "    # Escape prompt\n",
    "    esc_prompt = rawstr_prompt\n",
    "    esc_prompt = esc_prompt.replace(\"[\", \"\\[\")\n",
    "    esc_prompt = esc_prompt.replace(\"]\", \"\\]\")\n",
    "    \n",
    "    # Send command\n",
    "    child.sendline(\"dump {}\".format(obj))\n",
    "    \n",
    "    # Expect output\n",
    "    pattern = \"{obj} = .*{prompt}\".format(\n",
    "        obj=obj,\n",
    "        prompt=esc_prompt)\n",
    "    child.expect(pattern)\n",
    "    \n",
    "    # Parse output\n",
    "    ret = child.after\n",
    "    \n",
    "    # - remove last line break and prompt that follows\n",
    "    last_line_break = ret.rfind(\"\\n\")\n",
    "    ret = ret[:last_line_break].strip()\n",
    "    \n",
    "    # - remove obj name and equal sign\n",
    "    ret = ret.replace(\"{} =\".format(obj), \"\").strip()\n",
    "    \n",
    "    if ret == \"null\":\n",
    "        ret = None\n",
    "    \n",
    "    return ret"
   ]
  },
  {
   "cell_type": "code",
   "execution_count": 6,
   "metadata": {},
   "outputs": [],
   "source": [
    "variables = {}\n",
    "\n",
    "child = spawn_jdb(\"IterPower\")\n",
    "\n",
    "while True:\n",
    "    ret = None\n",
    "    try:\n",
    "        ret = step(child)\n",
    "    except pexpect.EOF:\n",
    "        break\n",
    "    if ret is None:\n",
    "        continue\n",
    "        \n",
    "    #\n",
    "    (args, locs) = ret\n",
    "    for (var, val) in itertools.chain(args, locs):\n",
    "        variables[var] = variables.get(var, list())\n",
    "        variables[var].append(val)\n",
    "\n",
    "variables_unique_values = { var: set(vals) for (var, vals) in variables.items() }"
   ]
  },
  {
   "cell_type": "code",
   "execution_count": 7,
   "metadata": {},
   "outputs": [
    {
     "data": {
      "text/plain": [
       "{'base': {'10'},\n",
       " 'exp': {'0', '1', '2', '3', '4'},\n",
       " 'result': {'1', '10', '100', '1000', '10000'},\n",
       " 'args': {'instance of java.lang.String[0] (id=495)'}}"
      ]
     },
     "execution_count": 7,
     "metadata": {},
     "output_type": "execute_result"
    }
   ],
   "source": [
    "variables_unique_values"
   ]
  },
  {
   "cell_type": "code",
   "execution_count": null,
   "metadata": {},
   "outputs": [],
   "source": []
  }
 ],
 "metadata": {
  "kernelspec": {
   "display_name": "Python 3",
   "language": "python",
   "name": "python3"
  },
  "language_info": {
   "codemirror_mode": {
    "name": "ipython",
    "version": 3
   },
   "file_extension": ".py",
   "mimetype": "text/x-python",
   "name": "python",
   "nbconvert_exporter": "python",
   "pygments_lexer": "ipython3",
   "version": "3.7.0"
  }
 },
 "nbformat": 4,
 "nbformat_minor": 2
}
